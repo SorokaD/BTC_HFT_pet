{
 "cells": [
  {
   "cell_type": "code",
   "execution_count": 7,
   "metadata": {},
   "outputs": [
    {
     "name": "stdout",
     "output_type": "stream",
     "text": [
      "12\n",
      "None\n"
     ]
    }
   ],
   "source": [
    "a='12'\n",
    "\n",
    "try: \n",
    "    a = int(a)\n",
    "    print(a)\n",
    "except:\n",
    "    print('uncorrect')\n",
    "    \n",
    "    \n",
    "cust = None\n",
    "if cust == None: print(cust)\n"
   ]
  },
  {
   "cell_type": "code",
   "execution_count": 18,
   "metadata": {},
   "outputs": [
    {
     "data": {
      "text/plain": [
       "21"
      ]
     },
     "execution_count": 18,
     "metadata": {},
     "output_type": "execute_result"
    }
   ],
   "source": [
    "    CustomerId = 1293\n",
    "    LoanId = 54\n",
    "    CreditAmmount = (CustomerId*1000 + LoanId*1000)\n",
    "    while CreditAmmount>24:\n",
    "        CreditAmmount = CreditAmmount/2\n",
    "    CreditAmmount = round(CreditAmmount)\n",
    "    int(CreditAmmount)"
   ]
  },
  {
   "cell_type": "code",
   "execution_count": 57,
   "metadata": {},
   "outputs": [],
   "source": [
    "ScoreSystem = 'test_1.0'\n",
    "\n",
    "def get_score(**kwargs):\n",
    "    '''\n",
    "    Скрипт скоринга обернутый в функцию\n",
    "    '''\n",
    "\n",
    "    try:\n",
    "        CustomerId = int(kwargs.get('CustomerId'))\n",
    "    except:\n",
    "        CustomerId = None\n",
    "\n",
    "    try:\n",
    "        LoanId = int(kwargs.get('LoanId'))\n",
    "    except:\n",
    "        LoanId = None\n",
    "\n",
    "    if (CustomerId == None)|(LoanId == None ):\n",
    "        return {'CreditAmmount':None, 'CreditPeriod':None, 'ScoreSystem':ScoreSystem, 'AutoApproval':'No'}\n",
    "\n",
    "    # расчет суммы\n",
    "    CreditAmmount = (CustomerId*1000 + LoanId*1000)\n",
    "    while CreditAmmount>200000:\n",
    "        CreditAmmount = CreditAmmount/3\n",
    "    CreditAmmount = int(round(CreditAmmount, -2))\n",
    "    \n",
    "    # расчет срока\n",
    "    CreditPeriod = (CustomerId*1000 + LoanId*1000)\n",
    "    while CreditPeriod>24:\n",
    "        CreditPeriod = CreditPeriod/2\n",
    "    CreditPeriod = int(round(CreditPeriod))    \n",
    "    \n",
    "    # автоодобрение\n",
    "    if (CustomerId+LoanId)%2 == 0: \n",
    "        AutoApproval = 'Yes'\n",
    "    else:\n",
    "        AutoApproval = 'No' \n",
    "    \n",
    "    return {'CreditAmmount':CreditAmmount, 'CreditPeriod':CreditPeriod, 'ScoreSystem':ScoreSystem, 'AutoApproval':AutoApproval}    "
   ]
  },
  {
   "cell_type": "code",
   "execution_count": 61,
   "metadata": {},
   "outputs": [
    {
     "data": {
      "text/plain": [
       "{'CreditAmmount': 131300,\n",
       " 'CreditPeriod': 23,\n",
       " 'ScoreSystem': 'test_1.0',\n",
       " 'AutoApproval': 'No'}"
      ]
     },
     "execution_count": 61,
     "metadata": {},
     "output_type": "execute_result"
    }
   ],
   "source": [
    "get_score(CustomerId=6712, LoanId=89011)"
   ]
  },
  {
   "cell_type": "code",
   "execution_count": null,
   "metadata": {},
   "outputs": [],
   "source": []
  },
  {
   "cell_type": "code",
   "execution_count": 86,
   "metadata": {},
   "outputs": [
    {
     "data": {
      "text/plain": [
       "38.25"
      ]
     },
     "execution_count": 86,
     "metadata": {},
     "output_type": "execute_result"
    }
   ],
   "source": [
    "10 + 0.1*110 + 0.05*45 + 15*1"
   ]
  },
  {
   "cell_type": "code",
   "execution_count": null,
   "metadata": {},
   "outputs": [],
   "source": []
  },
  {
   "cell_type": "code",
   "execution_count": null,
   "metadata": {},
   "outputs": [],
   "source": []
  }
 ],
 "metadata": {
  "kernelspec": {
   "display_name": "Python 3",
   "language": "python",
   "name": "python3"
  },
  "language_info": {
   "codemirror_mode": {
    "name": "ipython",
    "version": 3
   },
   "file_extension": ".py",
   "mimetype": "text/x-python",
   "name": "python",
   "nbconvert_exporter": "python",
   "pygments_lexer": "ipython3",
   "version": "3.10.1"
  }
 },
 "nbformat": 4,
 "nbformat_minor": 2
}
