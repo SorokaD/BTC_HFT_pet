{
 "cells": [
  {
   "cell_type": "code",
   "execution_count": 2,
   "metadata": {},
   "outputs": [
    {
     "data": {
      "text/plain": [
       "<module 'src_API' from 'c:\\\\Users\\\\sorok\\\\Desktop\\\\myGit\\\\BTC_pet\\\\notebooks\\\\../src\\\\src_API.py'>"
      ]
     },
     "execution_count": 2,
     "metadata": {},
     "output_type": "execute_result"
    }
   ],
   "source": [
    "from pybit.unified_trading import HTTP\n",
    "from pybit.unified_trading import WebSocket\n",
    "import pybit # working source\n",
    "import pandas as pd\n",
    "import datetime as dt\n",
    "\n",
    "\n",
    "import sys\n",
    "from importlib import reload\n",
    "sys.path.append('../../') \n",
    "sys.path.append('../src/')\n",
    "from credentials import KEY, SECRET, KEY_test, SECRET_test\n",
    "import src_API\n",
    "\n",
    "reload(src_API)"
   ]
  },
  {
   "cell_type": "code",
   "execution_count": 3,
   "metadata": {},
   "outputs": [],
   "source": [
    "client = HTTP(testnet=True, api_key=KEY_test, api_secret=SECRET_test)\n",
    "symbol = 'BTCUSD'"
   ]
  },
  {
   "cell_type": "code",
   "execution_count": 4,
   "metadata": {},
   "outputs": [
    {
     "data": {
      "text/plain": [
       "{'retCode': 0,\n",
       " 'retMsg': 'OK',\n",
       " 'result': {'timeSecond': '1705151006', 'timeNano': '1705151006165982441'},\n",
       " 'retExtInfo': {},\n",
       " 'time': 1705151006165}"
      ]
     },
     "execution_count": 4,
     "metadata": {},
     "output_type": "execute_result"
    }
   ],
   "source": [
    "# get historical data\n",
    "src_API.get_data_historical(client, 'linear', symbol, '1', limit=1)\n",
    "# get bybit server time\n",
    "client.get_server_time()\n"
   ]
  },
  {
   "cell_type": "code",
   "execution_count": null,
   "metadata": {},
   "outputs": [],
   "source": []
  },
  {
   "cell_type": "code",
   "execution_count": null,
   "metadata": {},
   "outputs": [],
   "source": []
  },
  {
   "cell_type": "code",
   "execution_count": 81,
   "metadata": {},
   "outputs": [
    {
     "data": {
      "text/plain": [
       "{'retCode': 0,\n",
       " 'retMsg': 'OK',\n",
       " 'result': {'list': [{'totalEquity': '10009.4',\n",
       "    'accountIMRate': '0',\n",
       "    'totalMarginBalance': '10009.4',\n",
       "    'totalInitialMargin': '0',\n",
       "    'accountType': 'UNIFIED',\n",
       "    'totalAvailableBalance': '10009.4',\n",
       "    'accountMMRate': '0',\n",
       "    'totalPerpUPL': '0',\n",
       "    'totalWalletBalance': '10009.4',\n",
       "    'accountLTV': '0',\n",
       "    'totalMaintenanceMargin': '0',\n",
       "    'coin': [{'availableToBorrow': '',\n",
       "      'bonus': '0',\n",
       "      'accruedInterest': '0',\n",
       "      'availableToWithdraw': '10000',\n",
       "      'totalOrderIM': '0',\n",
       "      'equity': '10000',\n",
       "      'totalPositionMM': '0',\n",
       "      'usdValue': '10009.4',\n",
       "      'unrealisedPnl': '0',\n",
       "      'collateralSwitch': True,\n",
       "      'spotHedgingQty': '0',\n",
       "      'borrowAmount': '0.000000000000000000',\n",
       "      'totalPositionIM': '0',\n",
       "      'walletBalance': '10000',\n",
       "      'cumRealisedPnl': '0',\n",
       "      'locked': '0',\n",
       "      'marginCollateral': True,\n",
       "      'coin': 'USDT'}]}]},\n",
       " 'retExtInfo': {},\n",
       " 'time': 1704462346612}"
      ]
     },
     "execution_count": 81,
     "metadata": {},
     "output_type": "execute_result"
    }
   ],
   "source": [
    "client.get_wallet_balance(\n",
    "    accountType=\"UNIFIED\",\n",
    "    coin=\"USDT\",\n",
    ")"
   ]
  },
  {
   "cell_type": "code",
   "execution_count": 9,
   "metadata": {},
   "outputs": [
    {
     "name": "stdout",
     "output_type": "stream",
     "text": [
      "{'retCode': 0, 'retMsg': 'SUCCESS', 'category': 'option', 'result': [{'period': 30, 'value': '0.44615523', 'time': '1704625200000'}]}\n"
     ]
    }
   ],
   "source": [
    "from pybit.unified_trading import HTTP\n",
    "session = HTTP(testnet=True)\n",
    "print(session.get_historical_volatility(\n",
    "    category=\"option\",\n",
    "    baseCoin=\"BTC\",\n",
    "    period=30,\n",
    "))"
   ]
  },
  {
   "cell_type": "code",
   "execution_count": null,
   "metadata": {},
   "outputs": [],
   "source": []
  },
  {
   "cell_type": "code",
   "execution_count": null,
   "metadata": {},
   "outputs": [],
   "source": []
  },
  {
   "cell_type": "code",
   "execution_count": null,
   "metadata": {},
   "outputs": [],
   "source": []
  },
  {
   "cell_type": "code",
   "execution_count": null,
   "metadata": {},
   "outputs": [],
   "source": []
  }
 ],
 "metadata": {
  "kernelspec": {
   "display_name": "Python 3",
   "language": "python",
   "name": "python3"
  },
  "language_info": {
   "codemirror_mode": {
    "name": "ipython",
    "version": 3
   },
   "file_extension": ".py",
   "mimetype": "text/x-python",
   "name": "python",
   "nbconvert_exporter": "python",
   "pygments_lexer": "ipython3",
   "version": "3.10.11"
  },
  "orig_nbformat": 4
 },
 "nbformat": 4,
 "nbformat_minor": 2
}
